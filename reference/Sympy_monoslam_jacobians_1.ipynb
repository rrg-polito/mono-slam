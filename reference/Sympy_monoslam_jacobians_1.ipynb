{
 "cells": [
  {
   "cell_type": "markdown",
   "metadata": {},
   "source": [
    "## Distoration model \n",
    "as in [24] the model (same for matlab and opencv calibration tools)\n",
    "\n",
    "we have distoration function which is:\n",
    "\n",
    "$$ h_d(p) = p * L(r_u) + \\epsilon $$\n",
    "\n",
    "where:\n",
    "\n",
    "- $p$ is the point (2D)\n",
    "\n",
    "- $L(r_u) = 1 + k_1*r_u**2 + k_2*r_u**4 + k_3*r_u**6$\n",
    "\n",
    "- $r_u**2 = p[0]**2 + p[1]**2$\n",
    "\n",
    "- $\\epsilon = \\left[ p1(r_u**2+2u**2)+2p_2uv;p2(r_u**2+2v**2)+2p_1uv \\right]$\n",
    "\n",
    "- $ p_1 , p_2 $ is the tangial conffecitionts"
   ]
  },
  {
   "cell_type": "markdown",
   "metadata": {},
   "source": [
    "Now , we want to claculate $$ \\frac{\\partial(h_d)}{\\partial(p)} $$ \n"
   ]
  },
  {
   "cell_type": "code",
   "execution_count": 1,
   "metadata": {},
   "outputs": [],
   "source": [
    "import sympy\n",
    "sympy.init_printing(use_latex=True)\n"
   ]
  },
  {
   "cell_type": "code",
   "execution_count": 2,
   "metadata": {},
   "outputs": [],
   "source": [
    "u, v = sympy.symbols('u v')\n",
    "r_u2 = u**2 + v**2;\n",
    "p = sympy.Matrix([u,v])\n",
    "\n",
    "p1 ,p2 = sympy.symbols('p1 p2')\n",
    "\n",
    "epslon = sympy.Matrix([p2*(r_u2+2*v**2)+2*p1*u*v,p1*(r_u2+2*u**2)+2*p2*u*v])\n",
    "\n",
    "k1 ,k2 ,k3 = sympy.symbols(' k_1 k_2 k_3 ')\n",
    "L_u = 1+k1*r_u2 + k2*r_u2**2 + k3*r_u2**3;\n",
    "\n",
    "h_d = p*L_u + epslon;\n",
    "\n",
    "jac_dist = h_d.jacobian(p)"
   ]
  },
  {
   "cell_type": "markdown",
   "metadata": {},
   "source": [
    "and that's it \n",
    "\n",
    "**TODO**: what was the general form of jacobian matrix to matrix"
   ]
  },
  {
   "cell_type": "code",
   "execution_count": 15,
   "metadata": {},
   "outputs": [
    {
     "data": {
      "image/png": "[encoded data removed]",
      "text/latex": [
       "$$\\left[\\begin{matrix}k_{1} \\left(u^{2} + v^{2}\\right) + k_{2} \\left(u^{2} + v^{2}\\right)^{2} + k_{3} \\left(u^{2} + v^{2}\\right)^{3} + 2 p_{1} v + 2 p_{2} u + u \\left(2 k_{1} u + 4 k_{2} u \\left(u^{2} + v^{2}\\right) + 6 k_{3} u \\left(u^{2} + v^{2}\\right)^{2}\\right) + 1 & 2 p_{1} u + 6 p_{2} v + u \\left(2 k_{1} v + 4 k_{2} v \\left(u^{2} + v^{2}\\right) + 6 k_{3} v \\left(u^{2} + v^{2}\\right)^{2}\\right)\\\\6 p_{1} u + 2 p_{2} v + v \\left(2 k_{1} u + 4 k_{2} u \\left(u^{2} + v^{2}\\right) + 6 k_{3} u \\left(u^{2} + v^{2}\\right)^{2}\\right) & k_{1} \\left(u^{2} + v^{2}\\right) + k_{2} \\left(u^{2} + v^{2}\\right)^{2} + k_{3} \\left(u^{2} + v^{2}\\right)^{3} + 2 p_{1} v + 2 p_{2} u + v \\left(2 k_{1} v + 4 k_{2} v \\left(u^{2} + v^{2}\\right) + 6 k_{3} v \\left(u^{2} + v^{2}\\right)^{2}\\right) + 1\\end{matrix}\\right]$$"
      ],
      "text/plain": [
       "⎡                           2               3                       ⎛         \n",
       "⎢   ⎛ 2    2⎞      ⎛ 2    2⎞       ⎛ 2    2⎞                        ⎜         \n",
       "⎢k₁⋅⎝u  + v ⎠ + k₂⋅⎝u  + v ⎠  + k₃⋅⎝u  + v ⎠  + 2⋅p₁⋅v + 2⋅p₂⋅u + u⋅⎝2⋅k₁⋅u + \n",
       "⎢                                                                             \n",
       "⎢                                             ⎛                               \n",
       "⎢                                             ⎜                ⎛ 2    2⎞      \n",
       "⎣                         6⋅p₁⋅u + 2⋅p₂⋅v + v⋅⎝2⋅k₁⋅u + 4⋅k₂⋅u⋅⎝u  + v ⎠ + 6⋅k\n",
       "\n",
       "                                   2⎞                                         \n",
       "       ⎛ 2    2⎞          ⎛ 2    2⎞ ⎟                                         \n",
       "4⋅k₂⋅u⋅⎝u  + v ⎠ + 6⋅k₃⋅u⋅⎝u  + v ⎠ ⎠ + 1                           2⋅p₁⋅u + 6\n",
       "                                                                              \n",
       "             2⎞                                                       2       \n",
       "    ⎛ 2    2⎞ ⎟                               ⎛ 2    2⎞      ⎛ 2    2⎞       ⎛\n",
       "₃⋅u⋅⎝u  + v ⎠ ⎠                            k₁⋅⎝u  + v ⎠ + k₂⋅⎝u  + v ⎠  + k₃⋅⎝\n",
       "\n",
       "          ⎛                                            2⎞                     \n",
       "          ⎜                ⎛ 2    2⎞          ⎛ 2    2⎞ ⎟                     \n",
       "⋅p₂⋅v + u⋅⎝2⋅k₁⋅v + 4⋅k₂⋅v⋅⎝u  + v ⎠ + 6⋅k₃⋅v⋅⎝u  + v ⎠ ⎠                     \n",
       "                                                                              \n",
       "        3                       ⎛                                            2\n",
       " 2    2⎞                        ⎜                ⎛ 2    2⎞          ⎛ 2    2⎞ \n",
       "u  + v ⎠  + 2⋅p₁⋅v + 2⋅p₂⋅u + v⋅⎝2⋅k₁⋅v + 4⋅k₂⋅v⋅⎝u  + v ⎠ + 6⋅k₃⋅v⋅⎝u  + v ⎠ \n",
       "\n",
       "     ⎤\n",
       "     ⎥\n",
       "     ⎥\n",
       "     ⎥\n",
       "⎞    ⎥\n",
       "⎟    ⎥\n",
       "⎠ + 1⎦"
      ]
     },
     "execution_count": 15,
     "metadata": {},
     "output_type": "execute_result"
    }
   ],
   "source": [
    "jac_dist"
   ]
  },
  {
   "cell_type": "markdown",
   "metadata": {},
   "source": [
    "## Prediction State Model (Covariance Prediction):\n",
    "\n",
    "For That we need to calculate the Jacobians , all are strightforward but the hardest to calculte are here to find with the help of **Sympy**\n",
    "\n",
    "- The First is: Jacobian of quatrinan predicted to quatrian :\n",
    "\n",
    "$$ \\frac{\\partial q_{k+1}}{\\partial q_k} = \\frac{\\partial(q_k \\times h)}{\\partial q_k}  $$ \n",
    "\n",
    "- The Second is: Jacobian of q to speed Omega:\n",
    "\n",
    "$$ \\frac{\\partial q_{k+1}}{\\partial \\omega } = \\frac{\\partial q_{k+1}}{\\partial h} \\cdot \\frac{\\partial h}{\\partial \\omega }$$ \n",
    "\n",
    "the term $\\frac{\\partial h}{\\partial \\omega }$ can be transformed as:\n",
    "\n",
    "$$ \\frac{\\partial h}{\\partial \\omega } = \\Delta t \\frac{\\partial q(\\alpha)}{\\partial \\alpha }$$\n",
    "\n",
    "Of course :\n",
    "\n",
    "$$h = quat(\\omega_k * \\Delta t)$$"
   ]
  },
  {
   "cell_type": "code",
   "execution_count": 2,
   "metadata": {},
   "outputs": [
    {
     "data": {
      "image/png": "[encoded data removed]",
      "text/latex": [
       "$$\\left[\\begin{matrix}- wx \\sin{\\left (\\frac{wx^{2}}{2} + \\frac{wy^{2}}{2} + \\frac{wz^{2}}{2} \\right )} & - wy \\sin{\\left (\\frac{wx^{2}}{2} + \\frac{wy^{2}}{2} + \\frac{wz^{2}}{2} \\right )} & - wz \\sin{\\left (\\frac{wx^{2}}{2} + \\frac{wy^{2}}{2} + \\frac{wz^{2}}{2} \\right )}\\\\\\frac{wx^{2} \\cos{\\left (\\frac{wx^{2}}{2} + \\frac{wy^{2}}{2} + \\frac{wz^{2}}{2} \\right )}}{wx^{2} + wy^{2} + wz^{2}} - \\frac{2 wx^{2} \\sin{\\left (\\frac{wx^{2}}{2} + \\frac{wy^{2}}{2} + \\frac{wz^{2}}{2} \\right )}}{\\left(wx^{2} + wy^{2} + wz^{2}\\right)^{2}} + \\frac{\\sin{\\left (\\frac{wx^{2}}{2} + \\frac{wy^{2}}{2} + \\frac{wz^{2}}{2} \\right )}}{wx^{2} + wy^{2} + wz^{2}} & \\frac{wx wy \\cos{\\left (\\frac{wx^{2}}{2} + \\frac{wy^{2}}{2} + \\frac{wz^{2}}{2} \\right )}}{wx^{2} + wy^{2} + wz^{2}} - \\frac{2 wx wy}{\\left(wx^{2} + wy^{2} + wz^{2}\\right)^{2}} \\sin{\\left (\\frac{wx^{2}}{2} + \\frac{wy^{2}}{2} + \\frac{wz^{2}}{2} \\right )} & \\frac{wx wz \\cos{\\left (\\frac{wx^{2}}{2} + \\frac{wy^{2}}{2} + \\frac{wz^{2}}{2} \\right )}}{wx^{2} + wy^{2} + wz^{2}} - \\frac{2 wx wz}{\\left(wx^{2} + wy^{2} + wz^{2}\\right)^{2}} \\sin{\\left (\\frac{wx^{2}}{2} + \\frac{wy^{2}}{2} + \\frac{wz^{2}}{2} \\right )}\\\\\\frac{wx wy \\cos{\\left (\\frac{wx^{2}}{2} + \\frac{wy^{2}}{2} + \\frac{wz^{2}}{2} \\right )}}{wx^{2} + wy^{2} + wz^{2}} - \\frac{2 wx wy}{\\left(wx^{2} + wy^{2} + wz^{2}\\right)^{2}} \\sin{\\left (\\frac{wx^{2}}{2} + \\frac{wy^{2}}{2} + \\frac{wz^{2}}{2} \\right )} & \\frac{wy^{2} \\cos{\\left (\\frac{wx^{2}}{2} + \\frac{wy^{2}}{2} + \\frac{wz^{2}}{2} \\right )}}{wx^{2} + wy^{2} + wz^{2}} - \\frac{2 wy^{2} \\sin{\\left (\\frac{wx^{2}}{2} + \\frac{wy^{2}}{2} + \\frac{wz^{2}}{2} \\right )}}{\\left(wx^{2} + wy^{2} + wz^{2}\\right)^{2}} + \\frac{\\sin{\\left (\\frac{wx^{2}}{2} + \\frac{wy^{2}}{2} + \\frac{wz^{2}}{2} \\right )}}{wx^{2} + wy^{2} + wz^{2}} & \\frac{wy wz \\cos{\\left (\\frac{wx^{2}}{2} + \\frac{wy^{2}}{2} + \\frac{wz^{2}}{2} \\right )}}{wx^{2} + wy^{2} + wz^{2}} - \\frac{2 wy wz}{\\left(wx^{2} + wy^{2} + wz^{2}\\right)^{2}} \\sin{\\left (\\frac{wx^{2}}{2} + \\frac{wy^{2}}{2} + \\frac{wz^{2}}{2} \\right )}\\\\\\frac{wx wz \\cos{\\left (\\frac{wx^{2}}{2} + \\frac{wy^{2}}{2} + \\frac{wz^{2}}{2} \\right )}}{wx^{2} + wy^{2} + wz^{2}} - \\frac{2 wx wz}{\\left(wx^{2} + wy^{2} + wz^{2}\\right)^{2}} \\sin{\\left (\\frac{wx^{2}}{2} + \\frac{wy^{2}}{2} + \\frac{wz^{2}}{2} \\right )} & \\frac{wy wz \\cos{\\left (\\frac{wx^{2}}{2} + \\frac{wy^{2}}{2} + \\frac{wz^{2}}{2} \\right )}}{wx^{2} + wy^{2} + wz^{2}} - \\frac{2 wy wz}{\\left(wx^{2} + wy^{2} + wz^{2}\\right)^{2}} \\sin{\\left (\\frac{wx^{2}}{2} + \\frac{wy^{2}}{2} + \\frac{wz^{2}}{2} \\right )} & \\frac{wz^{2} \\cos{\\left (\\frac{wx^{2}}{2} + \\frac{wy^{2}}{2} + \\frac{wz^{2}}{2} \\right )}}{wx^{2} + wy^{2} + wz^{2}} - \\frac{2 wz^{2} \\sin{\\left (\\frac{wx^{2}}{2} + \\frac{wy^{2}}{2} + \\frac{wz^{2}}{2} \\right )}}{\\left(wx^{2} + wy^{2} + wz^{2}\\right)^{2}} + \\frac{\\sin{\\left (\\frac{wx^{2}}{2} + \\frac{wy^{2}}{2} + \\frac{wz^{2}}{2} \\right )}}{wx^{2} + wy^{2} + wz^{2}}\\end{matrix}\\right]$$"
      ],
      "text/plain": [
       "⎡                                 ⎛  2     2     2⎞                           \n",
       "⎢                                 ⎜wx    wy    wz ⎟                           \n",
       "⎢                          -wx⋅sin⎜─── + ─── + ───⎟                           \n",
       "⎢                                 ⎝ 2     2     2 ⎠                           \n",
       "⎢                                                                             \n",
       "⎢       ⎛  2     2     2⎞            ⎛  2     2     2⎞      ⎛  2     2     2⎞ \n",
       "⎢  2    ⎜wx    wy    wz ⎟       2    ⎜wx    wy    wz ⎟      ⎜wx    wy    wz ⎟ \n",
       "⎢wx ⋅cos⎜─── + ─── + ───⎟   2⋅wx ⋅sin⎜─── + ─── + ───⎟   sin⎜─── + ─── + ───⎟ \n",
       "⎢       ⎝ 2     2     2 ⎠            ⎝ 2     2     2 ⎠      ⎝ 2     2     2 ⎠ \n",
       "⎢──────────────────────── - ────────────────────────── + ──────────────────── \n",
       "⎢      2     2     2                             2           2     2     2    \n",
       "⎢    wx  + wy  + wz             ⎛  2     2     2⎞          wx  + wy  + wz     \n",
       "⎢                               ⎝wx  + wy  + wz ⎠                             \n",
       "⎢                                                                             \n",
       "⎢                  ⎛  2     2     2⎞              ⎛  2     2     2⎞           \n",
       "⎢                  ⎜wx    wy    wz ⎟              ⎜wx    wy    wz ⎟           \n",
       "⎢         wx⋅wy⋅cos⎜─── + ─── + ───⎟   2⋅wx⋅wy⋅sin⎜─── + ─── + ───⎟           \n",
       "⎢                  ⎝ 2     2     2 ⎠              ⎝ 2     2     2 ⎠           \n",
       "⎢         ────────────────────────── - ────────────────────────────           \n",
       "⎢                2     2     2                               2                \n",
       "⎢              wx  + wy  + wz               ⎛  2     2     2⎞                 \n",
       "⎢                                           ⎝wx  + wy  + wz ⎠                 \n",
       "⎢                                                                             \n",
       "⎢                  ⎛  2     2     2⎞              ⎛  2     2     2⎞           \n",
       "⎢                  ⎜wx    wy    wz ⎟              ⎜wx    wy    wz ⎟           \n",
       "⎢         wx⋅wz⋅cos⎜─── + ─── + ───⎟   2⋅wx⋅wz⋅sin⎜─── + ─── + ───⎟           \n",
       "⎢                  ⎝ 2     2     2 ⎠              ⎝ 2     2     2 ⎠           \n",
       "⎢         ────────────────────────── - ────────────────────────────           \n",
       "⎢                2     2     2                               2                \n",
       "⎢              wx  + wy  + wz               ⎛  2     2     2⎞                 \n",
       "⎣                                           ⎝wx  + wy  + wz ⎠                 \n",
       "\n",
       "                                  ⎛  2     2     2⎞                           \n",
       "                                  ⎜wx    wy    wz ⎟                           \n",
       "                           -wy⋅sin⎜─── + ─── + ───⎟                           \n",
       "                                  ⎝ 2     2     2 ⎠                           \n",
       "                                                                              \n",
       "                   ⎛  2     2     2⎞              ⎛  2     2     2⎞           \n",
       "                   ⎜wx    wy    wz ⎟              ⎜wx    wy    wz ⎟           \n",
       "          wx⋅wy⋅cos⎜─── + ─── + ───⎟   2⋅wx⋅wy⋅sin⎜─── + ─── + ───⎟           \n",
       "                   ⎝ 2     2     2 ⎠              ⎝ 2     2     2 ⎠           \n",
       "          ────────────────────────── - ────────────────────────────           \n",
       "                 2     2     2                               2                \n",
       "               wx  + wy  + wz               ⎛  2     2     2⎞                 \n",
       "                                            ⎝wx  + wy  + wz ⎠                 \n",
       "                                                                              \n",
       "        ⎛  2     2     2⎞            ⎛  2     2     2⎞      ⎛  2     2     2⎞ \n",
       "   2    ⎜wx    wy    wz ⎟       2    ⎜wx    wy    wz ⎟      ⎜wx    wy    wz ⎟ \n",
       " wy ⋅cos⎜─── + ─── + ───⎟   2⋅wy ⋅sin⎜─── + ─── + ───⎟   sin⎜─── + ─── + ───⎟ \n",
       "        ⎝ 2     2     2 ⎠            ⎝ 2     2     2 ⎠      ⎝ 2     2     2 ⎠ \n",
       " ──────────────────────── - ────────────────────────── + ──────────────────── \n",
       "       2     2     2                             2           2     2     2    \n",
       "     wx  + wy  + wz             ⎛  2     2     2⎞          wx  + wy  + wz     \n",
       "                                ⎝wx  + wy  + wz ⎠                             \n",
       "                                                                              \n",
       "                   ⎛  2     2     2⎞              ⎛  2     2     2⎞           \n",
       "                   ⎜wx    wy    wz ⎟              ⎜wx    wy    wz ⎟           \n",
       "          wy⋅wz⋅cos⎜─── + ─── + ───⎟   2⋅wy⋅wz⋅sin⎜─── + ─── + ───⎟           \n",
       "                   ⎝ 2     2     2 ⎠              ⎝ 2     2     2 ⎠           \n",
       "          ────────────────────────── - ────────────────────────────           \n",
       "                 2     2     2                               2                \n",
       "               wx  + wy  + wz               ⎛  2     2     2⎞                 \n",
       "                                            ⎝wx  + wy  + wz ⎠                 \n",
       "\n",
       "                                  ⎛  2     2     2⎞                          ⎤\n",
       "                                  ⎜wx    wy    wz ⎟                          ⎥\n",
       "                           -wz⋅sin⎜─── + ─── + ───⎟                          ⎥\n",
       "                                  ⎝ 2     2     2 ⎠                          ⎥\n",
       "                                                                             ⎥\n",
       "                   ⎛  2     2     2⎞              ⎛  2     2     2⎞          ⎥\n",
       "                   ⎜wx    wy    wz ⎟              ⎜wx    wy    wz ⎟          ⎥\n",
       "          wx⋅wz⋅cos⎜─── + ─── + ───⎟   2⋅wx⋅wz⋅sin⎜─── + ─── + ───⎟          ⎥\n",
       "                   ⎝ 2     2     2 ⎠              ⎝ 2     2     2 ⎠          ⎥\n",
       "          ────────────────────────── - ────────────────────────────          ⎥\n",
       "                 2     2     2                               2               ⎥\n",
       "               wx  + wy  + wz               ⎛  2     2     2⎞                ⎥\n",
       "                                            ⎝wx  + wy  + wz ⎠                ⎥\n",
       "                                                                             ⎥\n",
       "                   ⎛  2     2     2⎞              ⎛  2     2     2⎞          ⎥\n",
       "                   ⎜wx    wy    wz ⎟              ⎜wx    wy    wz ⎟          ⎥\n",
       "          wy⋅wz⋅cos⎜─── + ─── + ───⎟   2⋅wy⋅wz⋅sin⎜─── + ─── + ───⎟          ⎥\n",
       "                   ⎝ 2     2     2 ⎠              ⎝ 2     2     2 ⎠          ⎥\n",
       "          ────────────────────────── - ────────────────────────────          ⎥\n",
       "                 2     2     2                               2               ⎥\n",
       "               wx  + wy  + wz               ⎛  2     2     2⎞                ⎥\n",
       "                                            ⎝wx  + wy  + wz ⎠                ⎥\n",
       "                                                                             ⎥\n",
       "        ⎛  2     2     2⎞            ⎛  2     2     2⎞      ⎛  2     2     2⎞⎥\n",
       "   2    ⎜wx    wy    wz ⎟       2    ⎜wx    wy    wz ⎟      ⎜wx    wy    wz ⎟⎥\n",
       " wz ⋅cos⎜─── + ─── + ───⎟   2⋅wz ⋅sin⎜─── + ─── + ───⎟   sin⎜─── + ─── + ───⎟⎥\n",
       "        ⎝ 2     2     2 ⎠            ⎝ 2     2     2 ⎠      ⎝ 2     2     2 ⎠⎥\n",
       " ──────────────────────── - ────────────────────────── + ────────────────────⎥\n",
       "       2     2     2                             2           2     2     2   ⎥\n",
       "     wx  + wy  + wz             ⎛  2     2     2⎞          wx  + wy  + wz    ⎥\n",
       "                                ⎝wx  + wy  + wz ⎠                            ⎦"
      ]
     },
     "execution_count": 2,
     "metadata": {},
     "output_type": "execute_result"
    }
   ],
   "source": [
    "wx,wy,wz = sympy.symbols('wx wy wz')\n",
    "dT = sympy.symbols('dT')\n",
    "alpha = wx**2+wz**2+wy**2\n",
    "qr = sympy.cos(alpha/2)\n",
    "some_factor = sympy.sin(alpha/2)/alpha;\n",
    "quat = sympy.Matrix([qr,some_factor*wx,some_factor*wy,some_factor*wz])\n",
    "w = sympy.Matrix([wx,wy,wz])\n",
    "quat.jacobian(w)"
   ]
  },
  {
   "cell_type": "markdown",
   "metadata": {},
   "source": [
    "That's for the second term of the second jacobian."
   ]
  },
  {
   "cell_type": "markdown",
   "metadata": {},
   "source": [
    "## Inverse_depth to XYZ Jacobian:\n",
    "\n",
    "here we want to convert inverse depth encoding to ecludian one,\n",
    "\n",
    "$$\\psi = [x^c \\  y^c \\ z^c \\  \\theta \\ \\phi \\ \\rho] $$\n",
    "\n",
    "to ecludian : $y$,\n",
    "\n",
    "and we have to compute \n",
    "$$\\frac{\\partial{y}}{\\partial{\\psi}}$$"
   ]
  },
  {
   "cell_type": "code",
   "execution_count": 4,
   "metadata": {},
   "outputs": [
    {
     "data": {
      "image/png": "[encoded data removed]",
      "text/latex": [
       "$$\\left[\\begin{matrix}1 & 0 & 0 & \\frac{1}{\\rho} \\cos{\\left (\\phi \\right )} \\cos{\\left (\\theta \\right )} & - \\frac{1}{\\rho} \\sin{\\left (\\phi \\right )} \\sin{\\left (\\theta \\right )} & - \\frac{1}{\\rho^{2}} \\sin{\\left (\\theta \\right )} \\cos{\\left (\\phi \\right )}\\\\0 & 1 & 0 & - \\frac{1}{\\rho} \\cos{\\left (\\theta \\right )} & 0 & \\frac{1}{\\rho^{2}} \\sin{\\left (\\theta \\right )}\\\\0 & 0 & 1 & - \\frac{1}{\\rho} \\sin{\\left (\\theta \\right )} \\cos{\\left (\\phi \\right )} & - \\frac{1}{\\rho} \\sin{\\left (\\phi \\right )} \\cos{\\left (\\theta \\right )} & - \\frac{1}{\\rho^{2}} \\cos{\\left (\\phi \\right )} \\cos{\\left (\\theta \\right )}\\end{matrix}\\right]$$"
      ],
      "text/plain": [
       "⎡          cos(φ)⋅cos(θ)   -sin(φ)⋅sin(θ)   -sin(θ)⋅cos(φ) ⎤\n",
       "⎢1  0  0   ─────────────   ───────────────  ───────────────⎥\n",
       "⎢                ρ                ρ                 2      ⎥\n",
       "⎢                                                  ρ       ⎥\n",
       "⎢                                                          ⎥\n",
       "⎢            -cos(θ)                            sin(θ)     ⎥\n",
       "⎢0  1  0     ────────             0             ──────     ⎥\n",
       "⎢               ρ                                  2       ⎥\n",
       "⎢                                                 ρ        ⎥\n",
       "⎢                                                          ⎥\n",
       "⎢         -sin(θ)⋅cos(φ)   -sin(φ)⋅cos(θ)   -cos(φ)⋅cos(θ) ⎥\n",
       "⎢0  0  1  ───────────────  ───────────────  ───────────────⎥\n",
       "⎢                ρ                ρ                 2      ⎥\n",
       "⎣                                                  ρ       ⎦"
      ]
     },
     "execution_count": 4,
     "metadata": {},
     "output_type": "execute_result"
    }
   ],
   "source": [
    "x ,y, z, theta, phi, rho = sympy.symbols('x y z theta phi rho')\n",
    "r = sympy.Matrix([x,y,z])\n",
    "psi = sympy.Matrix([x,y,z,theta,phi,rho])\n",
    "s ,c = sympy.sin , sympy.cos \n",
    "n = sympy.Matrix([s(theta)*c(phi),-1*s(theta),c(theta)*c(phi)])\n",
    "y = r.transpose() + n.transpose()/rho;\n",
    "y.jacobian(psi)"
   ]
  },
  {
   "cell_type": "markdown",
   "metadata": {},
   "source": [
    "## Normalize Quantrion:\n",
    "\n",
    "after prediction , we must normalize the quantrion vector , and add jacobin to covariance which contain:\n",
    "\n",
    "$$\\frac{norm(q)}{\\partial q}$$"
   ]
  },
  {
   "cell_type": "code",
   "execution_count": 4,
   "metadata": {},
   "outputs": [],
   "source": [
    "import sympy\n",
    "sympy.init_printing(use_latex=True)\n",
    "\n",
    "qr ,qx, qy, qz = sympy.symbols('qr qx qy qz')\n",
    "q = sympy.Matrix([qr ,qx, qy, qz])\n",
    "nq = q.norm()\n",
    "norm_q = ( qr**2+ qx**2+ qy**2+ qz**2)**0.5"
   ]
  },
  {
   "cell_type": "code",
   "execution_count": 9,
   "metadata": {},
   "outputs": [],
   "source": [
    "nq1 = sympy.Matrix([nq])"
   ]
  },
  {
   "cell_type": "code",
   "execution_count": 10,
   "metadata": {},
   "outputs": [
    {
     "data": {
      "image/png": "[encoded data removed]",
      "text/latex": [
       "$$\\left[\\begin{matrix}\\frac{\\Re{qr} \\frac{d}{d qr} \\Re{qr} + \\Im{qr} \\frac{d}{d qr} \\Im{qr}}{\\sqrt{\\left|{qr}\\right|^{2} + \\left|{qx}\\right|^{2} + \\left|{qy}\\right|^{2} + \\left|{qz}\\right|^{2}}} & \\frac{\\Re{qx} \\frac{d}{d qx} \\Re{qx} + \\Im{qx} \\frac{d}{d qx} \\Im{qx}}{\\sqrt{\\left|{qr}\\right|^{2} + \\left|{qx}\\right|^{2} + \\left|{qy}\\right|^{2} + \\left|{qz}\\right|^{2}}} & \\frac{\\Re{qy} \\frac{d}{d qy} \\Re{qy} + \\Im{qy} \\frac{d}{d qy} \\Im{qy}}{\\sqrt{\\left|{qr}\\right|^{2} + \\left|{qx}\\right|^{2} + \\left|{qy}\\right|^{2} + \\left|{qz}\\right|^{2}}} & \\frac{\\Re{qz} \\frac{d}{d qz} \\Re{qz} + \\Im{qz} \\frac{d}{d qz} \\Im{qz}}{\\sqrt{\\left|{qr}\\right|^{2} + \\left|{qx}\\right|^{2} + \\left|{qy}\\right|^{2} + \\left|{qz}\\right|^{2}}}\\end{matrix}\\right]$$"
      ],
      "text/plain": [
       "⎡        d                    d                   d                    d      \n",
       "⎢re(qr)⋅───(re(qr)) + im(qr)⋅───(im(qr))  re(qx)⋅───(re(qx)) + im(qx)⋅───(im(q\n",
       "⎢       dqr                  dqr                 dqx                  dqx     \n",
       "⎢───────────────────────────────────────  ────────────────────────────────────\n",
       "⎢      _______________________________          ______________________________\n",
       "⎢     ╱     2       2       2       2          ╱     2       2       2       2\n",
       "⎣   ╲╱  │qr│  + │qx│  + │qy│  + │qz│         ╲╱  │qr│  + │qx│  + │qy│  + │qz│ \n",
       "\n",
       "             d                    d                   d                    d  \n",
       "x))  re(qy)⋅───(re(qy)) + im(qy)⋅───(im(qy))  re(qz)⋅───(re(qz)) + im(qz)⋅───(\n",
       "            dqy                  dqy                 dqz                  dqz \n",
       "───  ───────────────────────────────────────  ────────────────────────────────\n",
       "_          _______________________________          __________________________\n",
       "          ╱     2       2       2       2          ╱     2       2       2    \n",
       "        ╲╱  │qr│  + │qx│  + │qy│  + │qz│         ╲╱  │qr│  + │qx│  + │qy│  + │\n",
       "\n",
       "       ⎤\n",
       "im(qz))⎥\n",
       "       ⎥\n",
       "───────⎥\n",
       "_____  ⎥\n",
       "   2   ⎥\n",
       "qz│    ⎦"
      ]
     },
     "execution_count": 10,
     "metadata": {},
     "output_type": "execute_result"
    }
   ],
   "source": [
    "nq1.jacobian(q)"
   ]
  },
  {
   "cell_type": "markdown",
   "metadata": {},
   "source": [
    "not sure what that means, TODO!"
   ]
  },
  {
   "cell_type": "markdown",
   "metadata": {},
   "source": [
    "## Mesurement Function Jacobian:\n",
    "\n",
    "I mean :\n",
    "\n",
    "$$ H = \\frac{\\partial h(\\mu)}{\\partial \\mu}  = \\frac{\\partial h(h_c)}{\\partial h_c} * \\frac{\\partial h_c}{\\partial \\mu}$$"
   ]
  },
  {
   "cell_type": "code",
   "execution_count": null,
   "metadata": {},
   "outputs": [],
   "source": []
  }
 ],
 "metadata": {
  "kernelspec": {
   "display_name": "Python 2",
   "language": "python",
   "name": "python2"
  },
  "language_info": {
   "codemirror_mode": {
    "name": "ipython",
    "version": 2
   },
   "file_extension": ".py",
   "mimetype": "text/x-python",
   "name": "python",
   "nbconvert_exporter": "python",
   "pygments_lexer": "ipython2",
   "version": "2.7.13"
  },
  "toc": {
   "nav_menu": {},
   "number_sections": false,
   "sideBar": true,
   "skip_h1_title": false,
   "toc_cell": false,
   "toc_position": {},
   "toc_section_display": "block",
   "toc_window_display": false
  },
  "varInspector": {
   "cols": {
    "lenName": 16,
    "lenType": 16,
    "lenVar": 40
   },
   "kernels_config": {
    "python": {
     "delete_cmd_postfix": "",
     "delete_cmd_prefix": "del ",
     "library": "var_list.py",
     "varRefreshCmd": "print(var_dic_list())"
    },
    "r": {
     "delete_cmd_postfix": ") ",
     "delete_cmd_prefix": "rm(",
     "library": "var_list.r",
     "varRefreshCmd": "cat(var_dic_list()) "
    }
   },
   "position": {
    "height": "260px",
    "left": "489.795px",
    "right": "20px",
    "top": "68.9972px",
    "width": "628px"
   },
   "types_to_exclude": [
    "module",
    "function",
    "builtin_function_or_method",
    "instance",
    "_Feature"
   ],
   "window_display": false
  }
 },
 "nbformat": 4,
 "nbformat_minor": 2
}
